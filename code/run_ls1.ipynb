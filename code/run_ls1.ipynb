{
 "cells": [
  {
   "cell_type": "code",
   "execution_count": 17,
   "id": "e76c2ccd",
   "metadata": {},
   "outputs": [],
   "source": [
    "import glob\n",
    "import subprocess"
   ]
  },
  {
   "cell_type": "code",
   "execution_count": 22,
   "id": "3fa66390",
   "metadata": {},
   "outputs": [
    {
     "name": "stdout",
     "output_type": "stream",
     "text": [
      "[]\n"
     ]
    }
   ],
   "source": [
    "path1 = glob.glob(\"../DATASET/test/*\")\n",
    "path2 = glob.glob(\"../DATASET/small_scale/*\")\n",
    "path3 = glob.glob(\"../DATASET/large_scale/*\")\n",
    "paths = path1 + path2 + path3"
   ]
  },
  {
   "cell_type": "code",
   "execution_count": 21,
   "id": "a8f2e8af",
   "metadata": {},
   "outputs": [],
   "source": [
    "instances = [path.split('/')[-1] for path in paths]"
   ]
  },
  {
   "cell_type": "code",
   "execution_count": 20,
   "id": "55f9d3de",
   "metadata": {
    "scrolled": true
   },
   "outputs": [
    {
     "name": "stdout",
     "output_type": "stream",
     "text": [
      "end of seed : 0\n",
      "end of seed : 1\n",
      "end of seed : 2\n",
      "end of seed : 3\n",
      "end of seed : 4\n",
      "end of seed : 5\n",
      "end of seed : 6\n",
      "end of seed : 7\n",
      "end of seed : 8\n",
      "end of seed : 9\n"
     ]
    }
   ],
   "source": [
    "for i in range(10):\n",
    "    process = []\n",
    "    for instance in instances:\n",
    "        p = subprocess.Popen(['python', 'main.py', '-inst', instance, \n",
    "                              '-alg', 'ls1', \n",
    "                              '-time', '600',\n",
    "                              '-seed', str(i)], stdout=subprocess.PIPE)\n",
    "        process.append((p, instance))\n",
    "    for p in process:\n",
    "        p[0].wait()\n",
    "        out, err = p[0].communicate()\n",
    "        print(p[1])\n",
    "        print(out.decode(\"utf-8\"))\n",
    "        print()\n",
    "    \n",
    "    print(f\"end of seed : {i}\")"
   ]
  }
 ],
 "metadata": {
  "kernelspec": {
   "display_name": "Python 3",
   "language": "python",
   "name": "python3"
  },
  "language_info": {
   "codemirror_mode": {
    "name": "ipython",
    "version": 3
   },
   "file_extension": ".py",
   "mimetype": "text/x-python",
   "name": "python",
   "nbconvert_exporter": "python",
   "pygments_lexer": "ipython3",
   "version": "3.9.6"
  },
  "vscode": {
   "interpreter": {
    "hash": "31f2aee4e71d21fbe5cf8b01ff0e069b9275f58929596ceb00d14d90e3e16cd6"
   }
  }
 },
 "nbformat": 4,
 "nbformat_minor": 5
}
